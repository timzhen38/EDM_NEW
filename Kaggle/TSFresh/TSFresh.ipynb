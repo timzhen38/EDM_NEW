{
 "cells": [
  {
   "cell_type": "code",
   "execution_count": 1,
   "id": "f4e27f94-a959-44d6-aef1-6efde20bb3a4",
   "metadata": {},
   "outputs": [],
   "source": [
    "import numpy as np\n",
    "import pandas as pd\n",
    "import matplotlib.pyplot as plt"
   ]
  },
  {
   "cell_type": "code",
   "execution_count": 2,
   "id": "057c7f0b-393b-4172-b776-c1ef36f8e19f",
   "metadata": {},
   "outputs": [
    {
     "name": "stdout",
     "output_type": "stream",
     "text": [
      "         FLUX.1    FLUX.2    FLUX.3    FLUX.4    FLUX.5    FLUX.6    FLUX.7  \\\n",
      "0     -1.470182 -1.265015 -0.292911  0.380301  0.540297  1.652947  1.741382   \n",
      "1      0.591357  0.530126  0.945562  0.667802  1.363121  1.291878  1.586202   \n",
      "2      1.030808  1.040210  1.000268  0.970761  0.894847  0.916974  0.917612   \n",
      "3      1.087530  1.157041  1.007028  0.992972  1.061646  1.048133  1.083863   \n",
      "4      1.109711  1.128772  1.149154  1.138471  1.112945  1.102053  1.076637   \n",
      "...         ...       ...       ...       ...       ...       ...       ...   \n",
      "10095  0.608466  0.544356  0.361798  0.648296  0.856675  0.958137  1.545675   \n",
      "10096  0.475201  0.673140  0.555877  0.620556  0.859805  0.936143  0.917023   \n",
      "10097  1.835736  1.975613  2.069143  1.545040  0.912002  0.630742  0.491073   \n",
      "10098 -1.563608 -1.826664 -1.689507 -1.015106 -0.793090 -0.588308 -0.029728   \n",
      "10099  0.975735  0.969785  0.996562  0.982792  0.977335  0.971039  1.000937   \n",
      "\n",
      "         FLUX.8    FLUX.9   FLUX.10  ...  FLUX.3188  FLUX.3189  FLUX.3190  \\\n",
      "0      1.206968  0.976071  1.909327  ...   4.265428   6.642329   0.950541   \n",
      "1      1.616219  1.644691  1.487184  ...   0.346276   3.485546   3.576310   \n",
      "2      0.964824  0.869734  0.969409  ...   2.296432  -0.451285  -0.479707   \n",
      "3      1.050162  1.057295  1.097746  ...  -0.589820   0.396977   0.409905   \n",
      "4      1.116490  1.093608  1.086160  ...   1.233217   0.858639   0.885918   \n",
      "...         ...       ...       ...  ...        ...        ...        ...   \n",
      "10095  0.997408  1.146614  1.530816  ...   4.493772  -0.687411  -2.037448   \n",
      "10096  1.109794  0.830332  1.191641  ...   1.603534   5.105677   2.082964   \n",
      "10097  0.288257  0.429879  0.772163  ...   5.010444  -1.844051  -2.147982   \n",
      "10098  0.110565  0.370545  0.570073  ...   1.862116   0.463044   0.463028   \n",
      "10099  0.982229  0.980261  0.971500  ...   1.093748   0.837353   0.835405   \n",
      "\n",
      "       FLUX.3191  FLUX.3192  FLUX.3193  FLUX.3194  FLUX.3195  FLUX.3196  \\\n",
      "0      -2.658351  -7.527734 -27.015301   0.950541   0.950541   0.874643   \n",
      "1       2.838533   0.569928  -0.091756   1.456143  -0.829942  -2.125094   \n",
      "2       1.150690   0.863441  -0.226237   0.574864   1.548948   4.173080   \n",
      "3      -3.417908  -2.364047   1.556096   1.124335   2.324505   2.449904   \n",
      "4       0.814212   1.046839   1.072670   1.015698   1.017564   1.136707   \n",
      "...          ...        ...        ...        ...        ...        ...   \n",
      "10095  -2.762036  -2.336377   0.504920   1.013214   1.336867   3.505846   \n",
      "10096   3.705192   3.648376  -0.461898  -0.030644  -0.147080   1.041521   \n",
      "10097  -4.604279  -2.723554 -12.990542  -8.833287   3.503104   0.962114   \n",
      "10098  -1.444625  -1.603907   0.703960   1.317135   1.909149   2.238589   \n",
      "10099   0.896039   0.932293   0.930130   1.003589   1.002446   1.034623   \n",
      "\n",
      "       FLUX.3197  \n",
      "0      -4.424251  \n",
      "1      -2.740973  \n",
      "2       0.975250  \n",
      "3      -2.084809  \n",
      "4       1.474284  \n",
      "...          ...  \n",
      "10095   2.315121  \n",
      "10096  -1.523868  \n",
      "10097   0.962665  \n",
      "10098   1.192349  \n",
      "10099   1.054805  \n",
      "\n",
      "[10100 rows x 3197 columns]\n"
     ]
    },
    {
     "ename": "MemoryError",
     "evalue": "Unable to allocate 246. MiB for an array with shape (32289700,) and data type float64",
     "output_type": "error",
     "traceback": [
      "\u001b[0;31m---------------------------------------------------------------------------\u001b[0m",
      "\u001b[0;31mMemoryError\u001b[0m                               Traceback (most recent call last)",
      "\u001b[0;32m/tmp/ipykernel_18905/81816542.py\u001b[0m in \u001b[0;36m<module>\u001b[0;34m\u001b[0m\n\u001b[1;32m     10\u001b[0m \u001b[0mprint\u001b[0m\u001b[0;34m(\u001b[0m\u001b[0mtrain_x_df\u001b[0m\u001b[0;34m)\u001b[0m\u001b[0;34m\u001b[0m\u001b[0;34m\u001b[0m\u001b[0m\n\u001b[1;32m     11\u001b[0m \u001b[0mtrain_x_df\u001b[0m\u001b[0;34m[\u001b[0m\u001b[0;34m\"id\"\u001b[0m\u001b[0;34m]\u001b[0m \u001b[0;34m=\u001b[0m \u001b[0mtrain_x_df\u001b[0m\u001b[0;34m.\u001b[0m\u001b[0mindex\u001b[0m\u001b[0;34m\u001b[0m\u001b[0;34m\u001b[0m\u001b[0m\n\u001b[0;32m---> 12\u001b[0;31m \u001b[0mtrain_x_df\u001b[0m \u001b[0;34m=\u001b[0m \u001b[0mpd\u001b[0m\u001b[0;34m.\u001b[0m\u001b[0mwide_to_long\u001b[0m\u001b[0;34m(\u001b[0m\u001b[0mtrain_x_df\u001b[0m\u001b[0;34m,\u001b[0m \u001b[0;34m[\u001b[0m\u001b[0;34m\"FLUX\"\u001b[0m\u001b[0;34m]\u001b[0m\u001b[0;34m,\u001b[0m \u001b[0mi\u001b[0m\u001b[0;34m=\u001b[0m\u001b[0;34m\"id\"\u001b[0m\u001b[0;34m,\u001b[0m \u001b[0mj\u001b[0m\u001b[0;34m=\u001b[0m\u001b[0;34m\"time\"\u001b[0m\u001b[0;34m,\u001b[0m \u001b[0msep\u001b[0m\u001b[0;34m=\u001b[0m\u001b[0;34m'.'\u001b[0m\u001b[0;34m)\u001b[0m\u001b[0;34m.\u001b[0m\u001b[0mreset_index\u001b[0m\u001b[0;34m(\u001b[0m\u001b[0;34m)\u001b[0m\u001b[0;34m.\u001b[0m\u001b[0msort_values\u001b[0m\u001b[0;34m(\u001b[0m\u001b[0;34m[\u001b[0m\u001b[0;34m'id'\u001b[0m\u001b[0;34m,\u001b[0m\u001b[0;34m'time'\u001b[0m\u001b[0;34m]\u001b[0m\u001b[0;34m)\u001b[0m\u001b[0;34m\u001b[0m\u001b[0;34m\u001b[0m\u001b[0m\n\u001b[0m\u001b[1;32m     13\u001b[0m \u001b[0mprint\u001b[0m\u001b[0;34m(\u001b[0m\u001b[0mtrain_x_df\u001b[0m\u001b[0;34m.\u001b[0m\u001b[0mhead\u001b[0m\u001b[0;34m(\u001b[0m\u001b[0;34m)\u001b[0m\u001b[0;34m)\u001b[0m\u001b[0;34m\u001b[0m\u001b[0;34m\u001b[0m\u001b[0m\n",
      "\u001b[0;32m/opt/conda/lib/python3.7/site-packages/pandas/core/reshape/melt.py\u001b[0m in \u001b[0;36mwide_to_long\u001b[0;34m(df, stubnames, i, j, sep, suffix)\u001b[0m\n\u001b[1;32m    537\u001b[0m     \u001b[0mid_vars\u001b[0m \u001b[0;34m=\u001b[0m \u001b[0mlist\u001b[0m\u001b[0;34m(\u001b[0m\u001b[0mset\u001b[0m\u001b[0;34m(\u001b[0m\u001b[0mdf\u001b[0m\u001b[0;34m.\u001b[0m\u001b[0mcolumns\u001b[0m\u001b[0;34m.\u001b[0m\u001b[0mtolist\u001b[0m\u001b[0;34m(\u001b[0m\u001b[0;34m)\u001b[0m\u001b[0;34m)\u001b[0m\u001b[0;34m.\u001b[0m\u001b[0mdifference\u001b[0m\u001b[0;34m(\u001b[0m\u001b[0mvalue_vars_flattened\u001b[0m\u001b[0;34m)\u001b[0m\u001b[0;34m)\u001b[0m\u001b[0;34m\u001b[0m\u001b[0;34m\u001b[0m\u001b[0m\n\u001b[1;32m    538\u001b[0m \u001b[0;34m\u001b[0m\u001b[0m\n\u001b[0;32m--> 539\u001b[0;31m     \u001b[0m_melted\u001b[0m \u001b[0;34m=\u001b[0m \u001b[0;34m[\u001b[0m\u001b[0mmelt_stub\u001b[0m\u001b[0;34m(\u001b[0m\u001b[0mdf\u001b[0m\u001b[0;34m,\u001b[0m \u001b[0ms\u001b[0m\u001b[0;34m,\u001b[0m \u001b[0mi\u001b[0m\u001b[0;34m,\u001b[0m \u001b[0mj\u001b[0m\u001b[0;34m,\u001b[0m \u001b[0mv\u001b[0m\u001b[0;34m,\u001b[0m \u001b[0msep\u001b[0m\u001b[0;34m)\u001b[0m \u001b[0;32mfor\u001b[0m \u001b[0ms\u001b[0m\u001b[0;34m,\u001b[0m \u001b[0mv\u001b[0m \u001b[0;32min\u001b[0m \u001b[0mzip\u001b[0m\u001b[0;34m(\u001b[0m\u001b[0mstubnames\u001b[0m\u001b[0;34m,\u001b[0m \u001b[0mvalue_vars\u001b[0m\u001b[0;34m)\u001b[0m\u001b[0;34m]\u001b[0m\u001b[0;34m\u001b[0m\u001b[0;34m\u001b[0m\u001b[0m\n\u001b[0m\u001b[1;32m    540\u001b[0m     \u001b[0mmelted\u001b[0m \u001b[0;34m=\u001b[0m \u001b[0m_melted\u001b[0m\u001b[0;34m[\u001b[0m\u001b[0;36m0\u001b[0m\u001b[0;34m]\u001b[0m\u001b[0;34m.\u001b[0m\u001b[0mjoin\u001b[0m\u001b[0;34m(\u001b[0m\u001b[0m_melted\u001b[0m\u001b[0;34m[\u001b[0m\u001b[0;36m1\u001b[0m\u001b[0;34m:\u001b[0m\u001b[0;34m]\u001b[0m\u001b[0;34m,\u001b[0m \u001b[0mhow\u001b[0m\u001b[0;34m=\u001b[0m\u001b[0;34m\"outer\"\u001b[0m\u001b[0;34m)\u001b[0m\u001b[0;34m\u001b[0m\u001b[0;34m\u001b[0m\u001b[0m\n\u001b[1;32m    541\u001b[0m \u001b[0;34m\u001b[0m\u001b[0m\n",
      "\u001b[0;32m/opt/conda/lib/python3.7/site-packages/pandas/core/reshape/melt.py\u001b[0m in \u001b[0;36m<listcomp>\u001b[0;34m(.0)\u001b[0m\n\u001b[1;32m    537\u001b[0m     \u001b[0mid_vars\u001b[0m \u001b[0;34m=\u001b[0m \u001b[0mlist\u001b[0m\u001b[0;34m(\u001b[0m\u001b[0mset\u001b[0m\u001b[0;34m(\u001b[0m\u001b[0mdf\u001b[0m\u001b[0;34m.\u001b[0m\u001b[0mcolumns\u001b[0m\u001b[0;34m.\u001b[0m\u001b[0mtolist\u001b[0m\u001b[0;34m(\u001b[0m\u001b[0;34m)\u001b[0m\u001b[0;34m)\u001b[0m\u001b[0;34m.\u001b[0m\u001b[0mdifference\u001b[0m\u001b[0;34m(\u001b[0m\u001b[0mvalue_vars_flattened\u001b[0m\u001b[0;34m)\u001b[0m\u001b[0;34m)\u001b[0m\u001b[0;34m\u001b[0m\u001b[0;34m\u001b[0m\u001b[0m\n\u001b[1;32m    538\u001b[0m \u001b[0;34m\u001b[0m\u001b[0m\n\u001b[0;32m--> 539\u001b[0;31m     \u001b[0m_melted\u001b[0m \u001b[0;34m=\u001b[0m \u001b[0;34m[\u001b[0m\u001b[0mmelt_stub\u001b[0m\u001b[0;34m(\u001b[0m\u001b[0mdf\u001b[0m\u001b[0;34m,\u001b[0m \u001b[0ms\u001b[0m\u001b[0;34m,\u001b[0m \u001b[0mi\u001b[0m\u001b[0;34m,\u001b[0m \u001b[0mj\u001b[0m\u001b[0;34m,\u001b[0m \u001b[0mv\u001b[0m\u001b[0;34m,\u001b[0m \u001b[0msep\u001b[0m\u001b[0;34m)\u001b[0m \u001b[0;32mfor\u001b[0m \u001b[0ms\u001b[0m\u001b[0;34m,\u001b[0m \u001b[0mv\u001b[0m \u001b[0;32min\u001b[0m \u001b[0mzip\u001b[0m\u001b[0;34m(\u001b[0m\u001b[0mstubnames\u001b[0m\u001b[0;34m,\u001b[0m \u001b[0mvalue_vars\u001b[0m\u001b[0;34m)\u001b[0m\u001b[0;34m]\u001b[0m\u001b[0;34m\u001b[0m\u001b[0;34m\u001b[0m\u001b[0m\n\u001b[0m\u001b[1;32m    540\u001b[0m     \u001b[0mmelted\u001b[0m \u001b[0;34m=\u001b[0m \u001b[0m_melted\u001b[0m\u001b[0;34m[\u001b[0m\u001b[0;36m0\u001b[0m\u001b[0;34m]\u001b[0m\u001b[0;34m.\u001b[0m\u001b[0mjoin\u001b[0m\u001b[0;34m(\u001b[0m\u001b[0m_melted\u001b[0m\u001b[0;34m[\u001b[0m\u001b[0;36m1\u001b[0m\u001b[0;34m:\u001b[0m\u001b[0;34m]\u001b[0m\u001b[0;34m,\u001b[0m \u001b[0mhow\u001b[0m\u001b[0;34m=\u001b[0m\u001b[0;34m\"outer\"\u001b[0m\u001b[0;34m)\u001b[0m\u001b[0;34m\u001b[0m\u001b[0;34m\u001b[0m\u001b[0m\n\u001b[1;32m    541\u001b[0m \u001b[0;34m\u001b[0m\u001b[0m\n",
      "\u001b[0;32m/opt/conda/lib/python3.7/site-packages/pandas/core/reshape/melt.py\u001b[0m in \u001b[0;36mmelt_stub\u001b[0;34m(df, stub, i, j, value_vars, sep)\u001b[0m\n\u001b[1;32m    506\u001b[0m             \u001b[0mvalue_vars\u001b[0m\u001b[0;34m=\u001b[0m\u001b[0mvalue_vars\u001b[0m\u001b[0;34m,\u001b[0m\u001b[0;34m\u001b[0m\u001b[0;34m\u001b[0m\u001b[0m\n\u001b[1;32m    507\u001b[0m             \u001b[0mvalue_name\u001b[0m\u001b[0;34m=\u001b[0m\u001b[0mstub\u001b[0m\u001b[0;34m.\u001b[0m\u001b[0mrstrip\u001b[0m\u001b[0;34m(\u001b[0m\u001b[0msep\u001b[0m\u001b[0;34m)\u001b[0m\u001b[0;34m,\u001b[0m\u001b[0;34m\u001b[0m\u001b[0;34m\u001b[0m\u001b[0m\n\u001b[0;32m--> 508\u001b[0;31m             \u001b[0mvar_name\u001b[0m\u001b[0;34m=\u001b[0m\u001b[0mj\u001b[0m\u001b[0;34m,\u001b[0m\u001b[0;34m\u001b[0m\u001b[0;34m\u001b[0m\u001b[0m\n\u001b[0m\u001b[1;32m    509\u001b[0m         )\n\u001b[1;32m    510\u001b[0m         \u001b[0mnewdf\u001b[0m\u001b[0;34m[\u001b[0m\u001b[0mj\u001b[0m\u001b[0;34m]\u001b[0m \u001b[0;34m=\u001b[0m \u001b[0mCategorical\u001b[0m\u001b[0;34m(\u001b[0m\u001b[0mnewdf\u001b[0m\u001b[0;34m[\u001b[0m\u001b[0mj\u001b[0m\u001b[0;34m]\u001b[0m\u001b[0;34m)\u001b[0m\u001b[0;34m\u001b[0m\u001b[0;34m\u001b[0m\u001b[0m\n",
      "\u001b[0;32m/opt/conda/lib/python3.7/site-packages/pandas/core/reshape/melt.py\u001b[0m in \u001b[0;36mmelt\u001b[0;34m(frame, id_vars, value_vars, var_name, value_name, col_level, ignore_index)\u001b[0m\n\u001b[1;32m    146\u001b[0m     \u001b[0;31m# error: Incompatible types in assignment (expression has type \"ndarray\",\u001b[0m\u001b[0;34m\u001b[0m\u001b[0;34m\u001b[0m\u001b[0;34m\u001b[0m\u001b[0m\n\u001b[1;32m    147\u001b[0m     \u001b[0;31m# target has type \"Series\")\u001b[0m\u001b[0;34m\u001b[0m\u001b[0;34m\u001b[0m\u001b[0;34m\u001b[0m\u001b[0m\n\u001b[0;32m--> 148\u001b[0;31m     \u001b[0mmdata\u001b[0m\u001b[0;34m[\u001b[0m\u001b[0mvalue_name\u001b[0m\u001b[0;34m]\u001b[0m \u001b[0;34m=\u001b[0m \u001b[0mframe\u001b[0m\u001b[0;34m.\u001b[0m\u001b[0m_values\u001b[0m\u001b[0;34m.\u001b[0m\u001b[0mravel\u001b[0m\u001b[0;34m(\u001b[0m\u001b[0;34m\"F\"\u001b[0m\u001b[0;34m)\u001b[0m  \u001b[0;31m# type: ignore[assignment]\u001b[0m\u001b[0;34m\u001b[0m\u001b[0;34m\u001b[0m\u001b[0m\n\u001b[0m\u001b[1;32m    149\u001b[0m     \u001b[0;32mfor\u001b[0m \u001b[0mi\u001b[0m\u001b[0;34m,\u001b[0m \u001b[0mcol\u001b[0m \u001b[0;32min\u001b[0m \u001b[0menumerate\u001b[0m\u001b[0;34m(\u001b[0m\u001b[0mvar_name\u001b[0m\u001b[0;34m)\u001b[0m\u001b[0;34m:\u001b[0m\u001b[0;34m\u001b[0m\u001b[0;34m\u001b[0m\u001b[0m\n\u001b[1;32m    150\u001b[0m         \u001b[0;31m# asanyarray will keep the columns as an Index\u001b[0m\u001b[0;34m\u001b[0m\u001b[0;34m\u001b[0m\u001b[0;34m\u001b[0m\u001b[0m\n",
      "\u001b[0;31mMemoryError\u001b[0m: Unable to allocate 246. MiB for an array with shape (32289700,) and data type float64"
     ]
    }
   ],
   "source": [
    "training_data_x = pd.read_csv(\"../archive/exoTrain.csv\").iloc[:, 1:]\n",
    "with open(\"../archive/ProcessData.npy\", 'rb') as f:\n",
    "        train_x = np.load(f)\n",
    "        test_x = np.load(f)\n",
    "        train_y = np.load(f)\n",
    "        test_y = np.load(f)\n",
    "train_x_df = pd.DataFrame(train_x, columns=training_data_x.columns)\n",
    "#https://stackoverflow.com/questions/50087135/convert-dataframe-from-wide-to-long-pandas\n",
    "#thttps://pandas.pydata.org/pandas-docs/stable/reference/api/pandas.wide_to_long.html#pandas.wide_to_long\n",
    "print(train_x_df)\n",
    "train_x_df[\"id\"] = train_x_df.index\n",
    "train_x_df = pd.wide_to_long(train_x_df, [\"FLUX\"], i=\"id\", j=\"time\", sep='.').reset_index().sort_values(['id','time'])\n",
    "print(train_x_df.head())"
   ]
  },
  {
   "cell_type": "code",
   "execution_count": null,
   "id": "8dea94b2-eb87-4741-adf8-8bbe4c31c556",
   "metadata": {},
   "outputs": [],
   "source": [
    "train_x_df[train_x_df['id'] == 3].plot(subplots=True, sharex=True, figsize=(10,10))\n",
    "plt.show()"
   ]
  },
  {
   "cell_type": "code",
   "execution_count": null,
   "id": "97901c8d-4bbd-4438-9b04-64bb80d9a5ed",
   "metadata": {},
   "outputs": [],
   "source": [
    "from tsfresh import extract_features\n",
    "from tsfresh.feature_extraction import EfficientFCParameters\n",
    "\n",
    "#13min for exotest\n",
    "extracted_features = extract_features(train_x_df, column_id= \"id\", column_sort= \"time\", \n",
    "                                      column_value= \"FLUX\", default_fc_parameters= EfficientFCParameters())"
   ]
  },
  {
   "cell_type": "code",
   "execution_count": null,
   "id": "f7be26a5-57e7-4e54-a596-1214654ab27f",
   "metadata": {},
   "outputs": [],
   "source": [
    "extracted_features"
   ]
  },
  {
   "cell_type": "code",
   "execution_count": null,
   "id": "9a5da189-a70a-46e4-9523-5f79300664fc",
   "metadata": {},
   "outputs": [],
   "source": [
    "extracted_features.to_pickle(\"./TS-Train.pkl\")"
   ]
  },
  {
   "cell_type": "code",
   "execution_count": null,
   "id": "eb785a3b-908a-44e5-9533-7c5bd1ffb581",
   "metadata": {},
   "outputs": [],
   "source": [
    "testing_data_x = pd.read_csv(\"../archive/exoTest.csv\").iloc[:, 1:]\n",
    "test_x_df = pd.DataFrame(test_x, columns=testing_data_x.columns)\n",
    "\n",
    "test_x_df[\"id\"] = test_x_df.index\n",
    "test_x_df = pd.wide_to_long(test_x_df, [\"FLUX\"], i=\"id\", j=\"time\", sep='.').reset_index().sort_values(['id','time'])\n",
    "print(test_x_df.head())"
   ]
  },
  {
   "cell_type": "code",
   "execution_count": null,
   "id": "2c7a0b35-cced-4261-85dd-e00154aa316c",
   "metadata": {},
   "outputs": [],
   "source": [
    "extracted_features = extract_features(test_x_df, column_id= \"id\", column_sort= \"time\", \n",
    "                                      column_value= \"FLUX\", default_fc_parameters= EfficientFCParameters())"
   ]
  },
  {
   "cell_type": "code",
   "execution_count": null,
   "id": "d83fe175-f5cc-462d-aedd-450423631570",
   "metadata": {},
   "outputs": [],
   "source": [
    "extracted_features"
   ]
  },
  {
   "cell_type": "code",
   "execution_count": null,
   "id": "8751eedc-2255-4f2b-b73b-b0be393d352c",
   "metadata": {},
   "outputs": [],
   "source": [
    "extracted_features.to_pickle(\"./TS-Test.pkl\")"
   ]
  },
  {
   "cell_type": "code",
   "execution_count": null,
   "id": "ce7f2532-0115-43c4-9ca8-12d31c7b9c33",
   "metadata": {},
   "outputs": [],
   "source": []
  }
 ],
 "metadata": {
  "environment": {
   "kernel": "conda-root-py",
   "name": "tf2-gpu.2-6.m87",
   "type": "gcloud",
   "uri": "gcr.io/deeplearning-platform-release/tf2-gpu.2-6:m87"
  },
  "kernelspec": {
   "display_name": "Python [conda env:root] *",
   "language": "python",
   "name": "conda-root-py"
  },
  "language_info": {
   "codemirror_mode": {
    "name": "ipython",
    "version": 3
   },
   "file_extension": ".py",
   "mimetype": "text/x-python",
   "name": "python",
   "nbconvert_exporter": "python",
   "pygments_lexer": "ipython3",
   "version": "3.7.12"
  }
 },
 "nbformat": 4,
 "nbformat_minor": 5
}
