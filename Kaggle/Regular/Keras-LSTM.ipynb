{
 "cells": [
  {
   "cell_type": "code",
   "execution_count": 1,
   "metadata": {
    "cell_id": "00000-afba7569-182c-446f-9ff9-b34e7667234e",
    "deepnote_cell_type": "code",
    "deepnote_to_be_reexecuted": false,
    "execution_millis": 1,
    "execution_start": 1635037265730,
    "source_hash": "5278eaf6",
    "tags": []
   },
   "outputs": [
    {
     "data": {
      "text/plain": [
       "[PhysicalDevice(name='/physical_device:GPU:0', device_type='GPU')]"
      ]
     },
     "execution_count": 1,
     "metadata": {},
     "output_type": "execute_result"
    }
   ],
   "source": [
    "# https://stackoverflow.com/questions/45741878/using-binary-crossentropy-loss-in-keras-tensorflow-backend\n",
    "# https://www.machinecurve.com/index.php/2019/10/22/how-to-use-binary-categorical-crossentropy-with-keras/\n",
    "\n",
    "import os\n",
    "os.environ['TF_CPP_MIN_LOG_LEVEL'] = '3'\n",
    "\n",
    "import tensorflow as tf\n",
    "from tensorflow import keras\n",
    "from tensorflow.keras.models import Sequential\n",
    "from tensorflow.keras.layers import Dense, Dropout, LSTM\n",
    "from tensorflow.keras.losses import BinaryCrossentropy\n",
    "from sklearn.model_selection import train_test_split\n",
    "from keras.callbacks import CSVLogger\n",
    "import numpy as np\n",
    "import pandas as pd\n",
    "import matplotlib.pyplot as plt\n",
    "physical_devices = tf.config.list_physical_devices('GPU') \n",
    "for device in physical_devices:\n",
    "    tf.config.experimental.set_memory_growth(device, True)\n",
    "\n",
    "%load_ext tensorboard\n",
    "import datetime\n",
    "\n",
    "tf.config.experimental.list_physical_devices('GPU')\n",
    "\n",
    "# RNN based Models (RNN & LSTM & GRU) using tensorflow keras"
   ]
  },
  {
   "cell_type": "code",
   "execution_count": 2,
   "metadata": {},
   "outputs": [],
   "source": [
    "!rm -rf ./logs/GRU #dont run this line unless you want to delete the tensorboard logs"
   ]
  },
  {
   "cell_type": "code",
   "execution_count": 3,
   "metadata": {
    "cell_id": "00004-38d59f3b-639f-4670-800c-6442871d0b19",
    "deepnote_cell_type": "code",
    "deepnote_to_be_reexecuted": false,
    "execution_millis": 3,
    "execution_start": 1635033957043,
    "source_hash": "df684276",
    "tags": []
   },
   "outputs": [],
   "source": [
    "def convert_3D(matrix):\n",
    "    return np.expand_dims(matrix, -1)"
   ]
  },
  {
   "cell_type": "code",
   "execution_count": 4,
   "metadata": {
    "cell_id": "00003-61e6535c-8807-4fdf-9db0-2600c2e1ffeb",
    "deepnote_cell_type": "code",
    "deepnote_to_be_reexecuted": false,
    "execution_millis": 7311,
    "execution_start": 1635033957061,
    "source_hash": "cc5c0c7f",
    "tags": []
   },
   "outputs": [],
   "source": [
    "with open(\"../archive/ProcessData.npy\", 'rb') as f:\n",
    "        training_data_x = np.load(f)\n",
    "        test_x = np.load(f)\n",
    "        training_data_y = np.load(f)\n",
    "        test_y = np.load(f)\n",
    "        \n",
    "training_data_x = convert_3D(training_data_x) \n",
    "test_x = convert_3D(test_x)\n",
    "\n",
    "training_data_x, validation_data_x, training_data_y, validation_data_y = train_test_split(training_data_x, training_data_y, test_size=0.3)"
   ]
  },
  {
   "cell_type": "code",
   "execution_count": 5,
   "metadata": {
    "cell_id": "00006-f4aee48d-a8a3-4adf-b11c-6d3234ad146b",
    "deepnote_cell_type": "code",
    "deepnote_to_be_reexecuted": false,
    "execution_millis": 1252938,
    "execution_start": 1634585366394,
    "source_hash": "1b176e43",
    "tags": []
   },
   "outputs": [
    {
     "name": "stdout",
     "output_type": "stream",
     "text": [
      "Epoch 1/10\n",
      "221/221 [==============================] - 52s 216ms/step - loss: 0.6936 - accuracy: 0.4926 - auc: 0.5503 - precision: 0.4385 - recall: 0.0699 - false_negatives: 3272.0000 - false_positives: 315.0000 - true_negatives: 3237.0000 - true_positives: 246.0000 - val_loss: 0.6923 - val_accuracy: 0.4957 - val_auc: 0.5658 - val_precision: 0.5093 - val_recall: 0.0718 - val_false_negatives: 1422.0000 - val_false_positives: 106.0000 - val_true_negatives: 1392.0000 - val_true_positives: 110.0000\n",
      "Epoch 2/10\n",
      "221/221 [==============================] - 44s 199ms/step - loss: 0.6912 - accuracy: 0.5020 - auc: 0.5875 - precision: 0.4970 - recall: 0.0713 - false_negatives: 3267.0000 - false_positives: 254.0000 - true_negatives: 3298.0000 - true_positives: 251.0000 - val_loss: 0.6901 - val_accuracy: 0.5036 - val_auc: 0.6417 - val_precision: 0.5722 - val_recall: 0.0725 - val_false_negatives: 1421.0000 - val_false_positives: 83.0000 - val_true_negatives: 1415.0000 - val_true_positives: 111.0000\n",
      "Epoch 3/10\n",
      "221/221 [==============================] - 44s 199ms/step - loss: 0.6891 - accuracy: 0.5116 - auc: 0.6197 - precision: 0.5727 - recall: 0.0728 - false_negatives: 3262.0000 - false_positives: 191.0000 - true_negatives: 3361.0000 - true_positives: 256.0000 - val_loss: 0.6881 - val_accuracy: 0.5086 - val_auc: 0.6566 - val_precision: 0.6215 - val_recall: 0.0718 - val_false_negatives: 1422.0000 - val_false_positives: 67.0000 - val_true_negatives: 1431.0000 - val_true_positives: 110.0000\n",
      "Epoch 4/10\n",
      "221/221 [==============================] - 44s 200ms/step - loss: 0.6871 - accuracy: 0.5082 - auc: 0.6482 - precision: 0.5668 - recall: 0.0495 - false_negatives: 3344.0000 - false_positives: 133.0000 - true_negatives: 3419.0000 - true_positives: 174.0000 - val_loss: 0.6862 - val_accuracy: 0.4987 - val_auc: 0.6868 - val_precision: 0.5657 - val_recall: 0.0366 - val_false_negatives: 1476.0000 - val_false_positives: 43.0000 - val_true_negatives: 1455.0000 - val_true_positives: 56.0000\n",
      "Epoch 5/10\n",
      "221/221 [==============================] - 45s 202ms/step - loss: 0.6853 - accuracy: 0.5014 - auc: 0.6657 - precision: 0.4822 - recall: 0.0270 - false_negatives: 3423.0000 - false_positives: 102.0000 - true_negatives: 3450.0000 - true_positives: 95.0000 - val_loss: 0.6845 - val_accuracy: 0.4924 - val_auc: 0.6784 - val_precision: 0.4559 - val_recall: 0.0202 - val_false_negatives: 1501.0000 - val_false_positives: 37.0000 - val_true_negatives: 1461.0000 - val_true_positives: 31.0000\n",
      "Epoch 6/10\n",
      "221/221 [==============================] - 44s 199ms/step - loss: 0.6835 - accuracy: 0.5902 - auc: 0.6720 - precision: 0.7039 - recall: 0.3047 - false_negatives: 2446.0000 - false_positives: 451.0000 - true_negatives: 3101.0000 - true_positives: 1072.0000 - val_loss: 0.6827 - val_accuracy: 0.6554 - val_auc: 0.6500 - val_precision: 0.7054 - val_recall: 0.5470 - val_false_negatives: 694.0000 - val_false_positives: 350.0000 - val_true_negatives: 1148.0000 - val_true_positives: 838.0000\n",
      "Epoch 7/10\n",
      "221/221 [==============================] - 44s 199ms/step - loss: 0.6817 - accuracy: 0.6454 - auc: 0.6775 - precision: 0.6565 - recall: 0.6029 - false_negatives: 1397.0000 - false_positives: 1110.0000 - true_negatives: 2442.0000 - true_positives: 2121.0000 - val_loss: 0.6810 - val_accuracy: 0.6267 - val_auc: 0.6665 - val_precision: 0.6338 - val_recall: 0.6201 - val_false_negatives: 582.0000 - val_false_positives: 549.0000 - val_true_negatives: 949.0000 - val_true_positives: 950.0000\n",
      "Epoch 8/10\n",
      "221/221 [==============================] - 44s 199ms/step - loss: 0.6800 - accuracy: 0.6204 - auc: 0.6734 - precision: 0.6092 - recall: 0.6612 - false_negatives: 1192.0000 - false_positives: 1492.0000 - true_negatives: 2060.0000 - true_positives: 2326.0000 - val_loss: 0.6793 - val_accuracy: 0.6083 - val_auc: 0.6819 - val_precision: 0.6039 - val_recall: 0.6547 - val_false_negatives: 529.0000 - val_false_positives: 658.0000 - val_true_negatives: 840.0000 - val_true_positives: 1003.0000\n",
      "Epoch 9/10\n",
      "221/221 [==============================] - 44s 200ms/step - loss: 0.6782 - accuracy: 0.6171 - auc: 0.6824 - precision: 0.6047 - recall: 0.6657 - false_negatives: 1176.0000 - false_positives: 1531.0000 - true_negatives: 2021.0000 - true_positives: 2342.0000 - val_loss: 0.6776 - val_accuracy: 0.6069 - val_auc: 0.6625 - val_precision: 0.6005 - val_recall: 0.6651 - val_false_negatives: 513.0000 - val_false_positives: 678.0000 - val_true_negatives: 820.0000 - val_true_positives: 1019.0000\n",
      "Epoch 10/10\n",
      "221/221 [==============================] - 57s 260ms/step - loss: 0.6764 - accuracy: 0.6072 - auc: 0.6835 - precision: 0.5916 - recall: 0.6799 - false_negatives: 1126.0000 - false_positives: 1651.0000 - true_negatives: 1901.0000 - true_positives: 2392.0000 - val_loss: 0.6758 - val_accuracy: 0.5990 - val_auc: 0.6768 - val_precision: 0.5911 - val_recall: 0.6710 - val_false_negatives: 504.0000 - val_false_positives: 711.0000 - val_true_negatives: 787.0000 - val_true_positives: 1028.0000\n"
     ]
    },
    {
     "name": "stderr",
     "output_type": "stream",
     "text": [
      "WARNING:absl:Found untraced functions such as lstm_cell_layer_call_and_return_conditional_losses, lstm_cell_layer_call_fn, lstm_cell_1_layer_call_and_return_conditional_losses, lstm_cell_1_layer_call_fn, lstm_cell_layer_call_fn while saving (showing 5 of 10). These functions will not be directly callable after loading.\n"
     ]
    },
    {
     "name": "stdout",
     "output_type": "stream",
     "text": [
      "INFO:tensorflow:Assets written to: keras-models/KerasLSTM/assets\n"
     ]
    },
    {
     "name": "stderr",
     "output_type": "stream",
     "text": [
      "INFO:tensorflow:Assets written to: keras-models/KerasLSTM/assets\n"
     ]
    }
   ],
   "source": [
    "LSTMmodel = Sequential([\n",
    "    LSTM(64, input_shape=(training_data_x.shape[1:]), return_sequences=True),\n",
    "    #Dropout(0.3),\n",
    "    LSTM(64),\n",
    "    #Dropout(0.3),\n",
    "    Dense(1, activation='sigmoid')\n",
    "])\n",
    "\n",
    "LSTMmodel.compile(\n",
    "    loss=BinaryCrossentropy(),\n",
    "    optimizer=keras.optimizers.Adam(learning_rate=0.000003),\n",
    "    metrics=[\"accuracy\", tf.keras.metrics.AUC(), tf.keras.metrics.Precision(), tf.keras.metrics.Recall(), tf.keras.metrics.FalseNegatives(),\n",
    "             tf.keras.metrics.FalsePositives(), tf.keras.metrics.TrueNegatives(), tf.keras.metrics.TruePositives()]\n",
    ")\n",
    "\n",
    "log_dir = \"logs/LSTM/fit/\" + datetime.datetime.now().strftime(\"%Y%m%d-%H%M%S\")\n",
    "tensorboard_callback = tf.keras.callbacks.TensorBoard(log_dir=log_dir, histogram_freq=1)\n",
    "\n",
    "csv_logger = CSVLogger('keras-models/KerasLSTM/training.csv',separator=\",\", append=False)\n",
    "\n",
    "LSTMmodel.fit(training_data_x, training_data_y, epochs=10, validation_data=(validation_data_x,validation_data_y), callbacks=[tensorboard_callback, csv_logger])\n",
    "\n",
    "model = LSTMmodel\n",
    "model.save('keras-models/KerasLSTM')"
   ]
  },
  {
   "cell_type": "code",
   "execution_count": 6,
   "metadata": {},
   "outputs": [
    {
     "data": {
      "text/html": [
       "\n",
       "      <iframe id=\"tensorboard-frame-b3dcf3e5416c1d2e\" width=\"100%\" height=\"800\" frameborder=\"0\">\n",
       "      </iframe>\n",
       "      <script>\n",
       "        (function() {\n",
       "          const frame = document.getElementById(\"tensorboard-frame-b3dcf3e5416c1d2e\");\n",
       "          const url = new URL(\"/proxy/6007/\", window.location);\n",
       "          const port = 0;\n",
       "          if (port) {\n",
       "            url.port = port;\n",
       "          }\n",
       "          frame.src = url;\n",
       "        })();\n",
       "      </script>\n",
       "    "
      ],
      "text/plain": [
       "<IPython.core.display.HTML object>"
      ]
     },
     "metadata": {},
     "output_type": "display_data"
    }
   ],
   "source": [
    "%tensorboard --logdir logs/LSTM/fit"
   ]
  }
 ],
 "metadata": {
  "deepnote": {
   "is_reactive": false
  },
  "deepnote_execution_queue": [],
  "deepnote_notebook_id": "cc27128a-20f9-46f3-8cb8-b049b97dc4ab",
  "environment": {
   "kernel": "python3",
   "name": "tf2-gpu.2-6.m87",
   "type": "gcloud",
   "uri": "gcr.io/deeplearning-platform-release/tf2-gpu.2-6:m87"
  },
  "kernelspec": {
   "display_name": "Python 3",
   "language": "python",
   "name": "python3"
  },
  "language_info": {
   "codemirror_mode": {
    "name": "ipython",
    "version": 3
   },
   "file_extension": ".py",
   "mimetype": "text/x-python",
   "name": "python",
   "nbconvert_exporter": "python",
   "pygments_lexer": "ipython3",
   "version": "3.7.12"
  }
 },
 "nbformat": 4,
 "nbformat_minor": 4
}
