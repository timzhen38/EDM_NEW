{
 "cells": [
  {
   "cell_type": "code",
   "execution_count": 1,
   "metadata": {
    "cell_id": "00000-472cbcdb-4e9b-46f5-bc9e-f4b4e97c8bd3",
    "deepnote_cell_type": "code",
    "deepnote_to_be_reexecuted": false,
    "execution_millis": 5610,
    "execution_start": 1634168360884,
    "source_hash": "99e17f2b",
    "tags": []
   },
   "outputs": [
    {
     "name": "stdout",
     "output_type": "stream",
     "text": [
      "WARNING:tensorflow:From /opt/conda/lib/python3.7/site-packages/tensorflow/python/compat/v2_compat.py:101: disable_resource_variables (from tensorflow.python.ops.variable_scope) is deprecated and will be removed in a future version.\n",
      "Instructions for updating:\n",
      "non-resource variables are not supported in the long term\n"
     ]
    }
   ],
   "source": [
    "# https://stackoverflow.com/questions/37159070/multiple-linear-regression-model-by-using-tensorflow\n",
    "# https://donaldpinckney.com/books/pytorch/book/ch2-linreg/2018-03-21-multi-variable.html\n",
    "# https://www.youtube.com/watch?v=Q4GNLhRtZNc\n",
    "# https://atmamani.github.io/projects/ml/coursera-gd-multivariate-linear-regression/\n",
    "# https://online.stat.psu.edu/stat462/sites/onlinecourses.science.psu.edu.stat462/files/05mlr/eq_matrix_notation/index.gif\n",
    "\n",
    "# Multivariable Logistic Regression for matricies.\n",
    "# target = flux1 + flux2 +... flux500 + b\n",
    "import tensorflow.compat.v1 as tf\n",
    "tf.disable_v2_behavior() \n",
    "import numpy as np\n",
    "import pandas as pd\n",
    "from numpy import exp"
   ]
  },
  {
   "cell_type": "code",
   "execution_count": 2,
   "metadata": {
    "cell_id": "00002-01b2c7d8-707d-4aa6-b424-ad8ecbbd1f58",
    "deepnote_cell_type": "code",
    "deepnote_to_be_reexecuted": false,
    "execution_millis": 2,
    "execution_start": 1634168366505,
    "source_hash": "93c1b31e",
    "tags": []
   },
   "outputs": [],
   "source": [
    "#retrieve and format data - into labels from the dataset\n",
    "def labels(filename):\n",
    "    data = pd.read_csv(filename)\n",
    "    data_y = data['LABEL']\n",
    "    data_y-= 1\n",
    "    return data_y.transpose()"
   ]
  },
  {
   "cell_type": "code",
   "execution_count": 3,
   "metadata": {
    "cell_id": "00007-f2dc2ae5-f310-4a14-8d71-88384e4f6257",
    "deepnote_cell_type": "code",
    "deepnote_to_be_reexecuted": false,
    "execution_millis": 3,
    "execution_start": 1634168452778,
    "source_hash": "27c812bc",
    "tags": []
   },
   "outputs": [],
   "source": [
    "#Logistic Layer using a sigmoid function\n",
    "def logistic_layer(y):\n",
    "    y = np.array(y)\n",
    "    y = 1 / (1 + exp(-y)) # sigmoid function\n",
    "    y = y.ravel()\n",
    "    return y"
   ]
  },
  {
   "cell_type": "code",
   "execution_count": 4,
   "metadata": {
    "cell_id": "00008-b837a0bd-a370-4dec-80f9-4f68a9cd9f78",
    "deepnote_cell_type": "code",
    "deepnote_to_be_reexecuted": false,
    "execution_millis": 1,
    "execution_start": 1634168452789,
    "source_hash": "b7072dad",
    "tags": []
   },
   "outputs": [],
   "source": [
    "#Calculate an accuracy metric\n",
    "def accuracy(predicted_y, true_y):\n",
    "    true_y = np.array(true_y).ravel()\n",
    "    counter = 0\n",
    "    for i in range(len(true_y)):\n",
    "        p_y = predicted_y[i]\n",
    "        t_y = true_y[i]\n",
    "        if (p_y>.5 and t_y == 1) or (p_y < .5 and t_y == 0):\n",
    "            counter+=1\n",
    "    counter = (counter/ len(true_y)) * 100\n",
    "    return counter"
   ]
  },
  {
   "cell_type": "code",
   "execution_count": 5,
   "metadata": {
    "cell_id": "00003-24aa0dac-d955-4941-8ed2-9ad14c317e71",
    "deepnote_cell_type": "code",
    "deepnote_to_be_reexecuted": false,
    "execution_millis": 5067,
    "execution_start": 1634168366515,
    "source_hash": "dbbaced2",
    "tags": []
   },
   "outputs": [],
   "source": [
    "with open(\"../archive/ProcessData.npy\", 'rb') as f:\n",
    "        training_data_x = np.load(f)\n",
    "        test_x = np.load(f)\n",
    "        training_data_y = np.load(f)\n",
    "        test_y = np.load(f)\n",
    "\n",
    "training_data_x = training_data_x.transpose()\n",
    "training_data_y = training_data_y.transpose()\n",
    "training_data_y = training_data_y.reshape(1,training_data_x.shape[1])\n",
    "\n",
    "#set hyperparameters & variables\n",
    "learning_rate = 0.00003\n",
    "epochs = 300\n",
    "display_step = 5\n",
    "n_samples = training_data_x.shape[1]\n",
    "col_num = training_data_x.shape[0]\n",
    "\n",
    "X = tf.placeholder(tf.float32, [col_num, n_samples])\n",
    "Y = tf.placeholder(tf.float32, [1, n_samples]) #resulting dimenstion of W*X matmul"
   ]
  },
  {
   "cell_type": "code",
   "execution_count": 6,
   "metadata": {
    "cell_id": "00004-9f09321a-12c4-4c03-9d19-642a45a3f3b0",
    "deepnote_cell_type": "code",
    "deepnote_to_be_reexecuted": false,
    "execution_millis": 19,
    "execution_start": 1634168371590,
    "source_hash": "54f103e4",
    "tags": []
   },
   "outputs": [],
   "source": [
    "# We want the weight vector to correspond one to one with every column\n",
    "W = tf.Variable(tf.zeros([1,col_num], dtype=np.float32), name=\"weight\")\n",
    "b = tf.Variable(tf.zeros([1, ], dtype=np.float32), name=\"bias\")\n",
    "\n",
    "#matrix multiplication requires outer dimension of W to be equal to be equal to the inner dimension of X: \n",
    "# (1,col_num) & (col_num, num_samples) - this is why we transpose X\n",
    "pred = tf.matmul(W, X) + b # y′(x,A,b)=Ax+b linear matrix equation\n",
    "\n",
    "error = tf.reduce_sum((pred-Y)**2) / (n_samples * 2) #MSE"
   ]
  },
  {
   "cell_type": "code",
   "execution_count": 7,
   "metadata": {
    "cell_id": "00005-5636fef9-095b-4767-984f-a967c95b5804",
    "deepnote_cell_type": "code",
    "deepnote_to_be_reexecuted": false,
    "execution_millis": 81157,
    "execution_start": 1634168371618,
    "source_hash": "e943c521",
    "tags": []
   },
   "outputs": [
    {
     "name": "stderr",
     "output_type": "stream",
     "text": [
      "2021-12-15 10:01:34.931351: I tensorflow/stream_executor/cuda/cuda_gpu_executor.cc:937] successful NUMA node read from SysFS had negative value (-1), but there must be at least one NUMA node, so returning NUMA node zero\n",
      "2021-12-15 10:01:34.940888: I tensorflow/stream_executor/cuda/cuda_gpu_executor.cc:937] successful NUMA node read from SysFS had negative value (-1), but there must be at least one NUMA node, so returning NUMA node zero\n",
      "2021-12-15 10:01:34.941443: I tensorflow/stream_executor/cuda/cuda_gpu_executor.cc:937] successful NUMA node read from SysFS had negative value (-1), but there must be at least one NUMA node, so returning NUMA node zero\n",
      "2021-12-15 10:01:34.942431: I tensorflow/core/platform/cpu_feature_guard.cc:142] This TensorFlow binary is optimized with oneAPI Deep Neural Network Library (oneDNN) to use the following CPU instructions in performance-critical operations:  AVX2 FMA\n",
      "To enable them in other operations, rebuild TensorFlow with the appropriate compiler flags.\n",
      "2021-12-15 10:01:34.943408: I tensorflow/stream_executor/cuda/cuda_gpu_executor.cc:937] successful NUMA node read from SysFS had negative value (-1), but there must be at least one NUMA node, so returning NUMA node zero\n",
      "2021-12-15 10:01:34.944120: I tensorflow/stream_executor/cuda/cuda_gpu_executor.cc:937] successful NUMA node read from SysFS had negative value (-1), but there must be at least one NUMA node, so returning NUMA node zero\n",
      "2021-12-15 10:01:34.944774: I tensorflow/stream_executor/cuda/cuda_gpu_executor.cc:937] successful NUMA node read from SysFS had negative value (-1), but there must be at least one NUMA node, so returning NUMA node zero\n",
      "2021-12-15 10:01:35.445943: I tensorflow/stream_executor/cuda/cuda_gpu_executor.cc:937] successful NUMA node read from SysFS had negative value (-1), but there must be at least one NUMA node, so returning NUMA node zero\n",
      "2021-12-15 10:01:35.446913: I tensorflow/stream_executor/cuda/cuda_gpu_executor.cc:937] successful NUMA node read from SysFS had negative value (-1), but there must be at least one NUMA node, so returning NUMA node zero\n",
      "2021-12-15 10:01:35.447613: I tensorflow/stream_executor/cuda/cuda_gpu_executor.cc:937] successful NUMA node read from SysFS had negative value (-1), but there must be at least one NUMA node, so returning NUMA node zero\n",
      "2021-12-15 10:01:35.448274: I tensorflow/core/common_runtime/gpu/gpu_device.cc:1510] Created device /job:localhost/replica:0/task:0/device:GPU:0 with 10537 MB memory:  -> device: 0, name: Tesla T4, pci bus id: 0000:00:04.0, compute capability: 7.5\n"
     ]
    },
    {
     "name": "stdout",
     "output_type": "stream",
     "text": [
      "Epoch = 0, Loss = 0.25, Weights = [[0. 0. 0. ... 0. 0. 0.]], Bias = [0.]\n",
      "Epoch = 5, Loss = 0.175745, Weights = [[-6.8771674e-06 -8.4137773e-06  2.2227656e-05 ...  7.9368248e-05\n",
      "   1.0074141e-04  7.4370815e-05]], Bias = [6.884479e-05]\n",
      "Epoch = 10, Loss = 0.135767, Weights = [[-1.24890075e-05 -1.51615141e-05  3.78293407e-05 ...  1.40106975e-04\n",
      "   1.80216608e-04  1.29618071e-04]], Bias = [0.00012523]\n",
      "Epoch = 15, Loss = 0.111991, Weights = [[-1.6678932e-05 -2.0119169e-05  4.9239949e-05 ...  1.8811712e-04\n",
      "   2.4414764e-04  1.7104899e-04]], Bias = [0.00017256]\n",
      "Epoch = 20, Loss = 0.0970477, Weights = [[-1.9799907e-05 -2.3744555e-05  5.7642119e-05 ...  2.2679895e-04\n",
      "   2.9655205e-04  2.0230786e-04]], Bias = [0.00021304]\n",
      "Epoch = 25, Loss = 0.0871523, Weights = [[-2.2181714e-05 -2.6460939e-05  6.3784733e-05 ...  2.5849597e-04\n",
      "   3.4034575e-04  2.2600745e-04]], Bias = [0.00024824]\n",
      "Epoch = 30, Loss = 0.0802627, Weights = [[-2.4063766e-05 -2.8578343e-05  6.8200228e-05 ...  2.8491506e-04\n",
      "   3.7766239e-04  2.4404823e-04]], Bias = [0.0002793]\n",
      "Epoch = 35, Loss = 0.0752384, Weights = [[-2.5608906e-05 -3.0309986e-05  7.1284339e-05 ...  3.0731768e-04\n",
      "   4.1006773e-04  2.5782190e-04]], Bias = [0.00030707]\n",
      "Epoch = 40, Loss = 0.0714208, Weights = [[-2.6925156e-05 -3.1798703e-05  7.3336843e-05 ...  3.2664047e-04\n",
      "   4.3871396e-04  2.6835297e-04]], Bias = [0.0003322]\n",
      "Epoch = 45, Loss = 0.068416, Weights = [[-2.8083174e-05 -3.3138556e-05  7.4587195e-05 ...  3.4358137e-04\n",
      "   4.6445214e-04  2.7639978e-04]], Bias = [0.00035516]\n",
      "Epoch = 50, Loss = 0.06598, Weights = [[-2.9128645e-05 -3.4390490e-05  7.5212229e-05 ...  3.5866222e-04\n",
      "   4.8791393e-04  2.8252686e-04]], Bias = [0.00037633]\n",
      "Epoch = 55, Loss = 0.0639555, Weights = [[-3.0090787e-05 -3.5593261e-05  7.5348958e-05 ...  3.7227507e-04\n",
      "   5.0957111e-04  2.8715713e-04]], Bias = [0.00039601]\n",
      "Epoch = 60, Loss = 0.0622383, Weights = [[-3.0988063e-05 -3.6770893e-05  7.5104021e-05 ...  3.8471614e-04\n",
      "   5.2977819e-04  2.9060961e-04]], Bias = [0.00041441]\n",
      "Epoch = 65, Loss = 0.0607564, Weights = [[-3.1832024e-05 -3.7937767e-05  7.4560674e-05 ...  3.9621050e-04\n",
      "   5.4880389e-04  2.9312671e-04]], Bias = [0.00043171]\n",
      "Epoch = 70, Loss = 0.0594588, Weights = [[-3.2629807e-05 -3.9101986e-05  7.3784227e-05 ...  4.0693019e-04\n",
      "   5.6685327e-04  2.9489395e-04]], Bias = [0.00044807]\n",
      "Epoch = 75, Loss = 0.0583085, Weights = [[-3.3385793e-05 -4.0267671e-05  7.2825998e-05 ...  4.1700789e-04\n",
      "   5.8408448e-04  2.9605458e-04]], Bias = [0.0004636]\n",
      "Epoch = 80, Loss = 0.0572779, Weights = [[-3.4102701e-05 -4.1436444e-05  7.1726463e-05 ...  4.2654647e-04\n",
      "   6.0062070e-04  2.9672004e-04]], Bias = [0.00047839]\n",
      "Epoch = 85, Loss = 0.0563463, Weights = [[-3.4782264e-05 -4.2608441e-05  7.0517628e-05 ...  4.3562643e-04\n",
      "   6.1655865e-04  2.9697776e-04]], Bias = [0.00049252]\n",
      "Epoch = 90, Loss = 0.0554973, Weights = [[-3.5425681e-05 -4.3782926e-05  6.9224821e-05 ...  4.4431115e-04\n",
      "   6.3197513e-04  2.9689691e-04]], Bias = [0.00050607]\n",
      "Epoch = 95, Loss = 0.0547184, Weights = [[-3.6033889e-05 -4.4958721e-05  6.7868139e-05 ...  4.5265115e-04\n",
      "   6.4693188e-04  2.9653267e-04]], Bias = [0.00051909]\n",
      "Epoch = 100, Loss = 0.0539995, Weights = [[-3.6607722e-05 -4.6134461e-05  6.6463537e-05 ...  4.6068680e-04\n",
      "   6.6147908e-04  2.9592958e-04]], Bias = [0.00053163]\n",
      "Epoch = 105, Loss = 0.0533325, Weights = [[-3.7148006e-05 -4.7308753e-05  6.5023669e-05 ...  4.6845086e-04\n",
      "   6.7565782e-04  2.9512367e-04]], Bias = [0.00054372]\n",
      "Epoch = 110, Loss = 0.0527109, Weights = [[-3.7655616e-05 -4.8480277e-05  6.3558582e-05 ...  4.7597004e-04\n",
      "   6.8950246e-04  2.9414438e-04]], Bias = [0.0005554]\n",
      "Epoch = 115, Loss = 0.0521291, Weights = [[-3.8131493e-05 -4.9647828e-05  6.2076200e-05 ...  4.8326637e-04\n",
      "   7.0304144e-04  2.9301611e-04]], Bias = [0.00056672]\n",
      "Epoch = 120, Loss = 0.0515827, Weights = [[-3.8576643e-05 -5.0810351e-05  6.0582803e-05 ...  4.9035810e-04\n",
      "   7.1629911e-04  2.9175903e-04]], Bias = [0.00057768]\n",
      "Epoch = 125, Loss = 0.0510679, Weights = [[-3.8992159e-05 -5.1966941e-05  5.9083286e-05 ...  4.9726065e-04\n",
      "   7.2929636e-04  2.9039002e-04]], Bias = [0.00058832]\n",
      "Epoch = 130, Loss = 0.0505815, Weights = [[-3.9379182e-05 -5.3116837e-05  5.7581481e-05 ...  5.0398702e-04\n",
      "   7.4205111e-04  2.8892333e-04]], Bias = [0.00059867]\n",
      "Epoch = 135, Loss = 0.0501207, Weights = [[-3.9738901e-05 -5.4259428e-05  5.6080324e-05 ...  5.1054836e-04\n",
      "   7.5457909e-04  2.8737102e-04]], Bias = [0.00060873]\n",
      "Epoch = 140, Loss = 0.0496832, Weights = [[-4.0072544e-05 -5.5394234e-05  5.4582037e-05 ...  5.1695423e-04\n",
      "   7.6689397e-04  2.8574336e-04]], Bias = [0.00061852]\n",
      "Epoch = 145, Loss = 0.0492669, Weights = [[-4.0381346e-05 -5.6520883e-05  5.3088275e-05 ...  5.2321301e-04\n",
      "   7.7900809e-04  2.8404908e-04]], Bias = [0.00062807]\n",
      "Epoch = 150, Loss = 0.0488702, Weights = [[-4.0666564e-05 -5.7639110e-05  5.1600229e-05 ...  5.2933203e-04\n",
      "   7.9093239e-04  2.8229583e-04]], Bias = [0.00063739]\n",
      "Epoch = 155, Loss = 0.0484913, Weights = [[-4.0929455e-05 -5.8748741e-05  5.0118702e-05 ...  5.3531775e-04\n",
      "   8.0267666e-04  2.8049020e-04]], Bias = [0.00064648]\n",
      "Epoch = 160, Loss = 0.0481289, Weights = [[-4.1171254e-05 -5.9849681e-05  4.8644200e-05 ...  5.4117595e-04\n",
      "   8.1424974e-04  2.7863786e-04]], Bias = [0.00065536]\n",
      "Epoch = 165, Loss = 0.0477819, Weights = [[-4.1393178e-05 -6.0941893e-05  4.7176989e-05 ...  5.4691167e-04\n",
      "   8.2565960e-04  2.7674381e-04]], Bias = [0.00066405]\n",
      "Epoch = 170, Loss = 0.047449, Weights = [[-4.1596424e-05 -6.2025400e-05  4.5717137e-05 ...  5.5252982e-04\n",
      "   8.3691376e-04  2.7481234e-04]], Bias = [0.00067255]\n",
      "Epoch = 175, Loss = 0.0471294, Weights = [[-4.1782157e-05 -6.3100277e-05  4.4264558e-05 ...  5.5803458e-04\n",
      "   8.4801891e-04  2.7284736e-04]], Bias = [0.00068086]\n",
      "Epoch = 180, Loss = 0.046822, Weights = [[-4.1951509e-05 -6.4166627e-05  4.2819047e-05 ...  5.6342990e-04\n",
      "   8.5898128e-04  2.7085224e-04]], Bias = [0.00068901]\n",
      "Epoch = 185, Loss = 0.0465262, Weights = [[-4.2105556e-05 -6.5224587e-05  4.1380299e-05 ...  5.6871941e-04\n",
      "   8.6980662e-04  2.6882993e-04]], Bias = [0.000697]\n",
      "Epoch = 190, Loss = 0.0462413, Weights = [[-4.2245349e-05 -6.6274333e-05  3.9947940e-05 ...  5.7390635e-04\n",
      "   8.8050019e-04  2.6678311e-04]], Bias = [0.00070482]\n",
      "Epoch = 195, Loss = 0.0459664, Weights = [[-4.2371885e-05 -6.7316025e-05  3.8521546e-05 ...  5.7899393e-04\n",
      "   8.9106691e-04  2.6471418e-04]], Bias = [0.0007125]\n",
      "Epoch = 200, Loss = 0.0457011, Weights = [[-4.2486121e-05 -6.8349858e-05  3.7100654e-05 ...  5.8398501e-04\n",
      "   9.0151146e-04  2.6262522e-04]], Bias = [0.00072004]\n",
      "Epoch = 205, Loss = 0.0454448, Weights = [[-4.2588967e-05 -6.9376045e-05  3.5684774e-05 ...  5.8888225e-04\n",
      "   9.1183803e-04  2.6051814e-04]], Bias = [0.00072744]\n",
      "Epoch = 210, Loss = 0.0451969, Weights = [[-4.2681288e-05 -7.0394795e-05  3.4273409e-05 ...  5.9368851e-04\n",
      "   9.2205073e-04  2.5839460e-04]], Bias = [0.00073471]\n",
      "Epoch = 215, Loss = 0.044957, Weights = [[-4.2763895e-05 -7.1406321e-05  3.2866039e-05 ...  5.9840601e-04\n",
      "   9.3215343e-04  2.5625614e-04]], Bias = [0.00074185]\n",
      "Epoch = 220, Loss = 0.0447248, Weights = [[-4.2837564e-05 -7.2410839e-05  3.1462161e-05 ...  6.0303713e-04\n",
      "   9.4214955e-04  2.5410412e-04]], Bias = [0.00074887]\n",
      "Epoch = 225, Loss = 0.0444997, Weights = [[-4.2903019e-05 -7.3408562e-05  3.0061270e-05 ...  6.0758408e-04\n",
      "   9.5204246e-04  2.5193981e-04]], Bias = [0.00075578]\n",
      "Epoch = 230, Loss = 0.0442814, Weights = [[-4.2960943e-05 -7.4399672e-05  2.8662869e-05 ...  6.1204896e-04\n",
      "   9.6183538e-04  2.4976433e-04]], Bias = [0.00076257]\n",
      "Epoch = 235, Loss = 0.0440695, Weights = [[-4.3011973e-05 -7.5384392e-05  2.7266477e-05 ...  6.1643368e-04\n",
      "   9.7153115e-04  2.4757866e-04]], Bias = [0.00076925]\n",
      "Epoch = 240, Loss = 0.0438639, Weights = [[-4.3056712e-05 -7.6362921e-05  2.5871632e-05 ...  6.2074029e-04\n",
      "   9.8113273e-04  2.4538368e-04]], Bias = [0.00077583]\n",
      "Epoch = 245, Loss = 0.043664, Weights = [[-4.3095719e-05 -7.7335448e-05  2.4477891e-05 ...  6.2497059e-04\n",
      "   9.9064270e-04  2.4318027e-04]], Bias = [0.0007823]\n",
      "Epoch = 250, Loss = 0.0434698, Weights = [[-4.3129516e-05 -7.8302146e-05  2.3084829e-05 ...  6.2912644e-04\n",
      "   1.0000636e-03  2.4096920e-04]], Bias = [0.00078868]\n",
      "Epoch = 255, Loss = 0.0432808, Weights = [[-4.3158583e-05 -7.9263184e-05  2.1692038e-05 ...  6.3320954e-04\n",
      "   1.0093977e-03  2.3875113e-04]], Bias = [0.00079496]\n",
      "Epoch = 260, Loss = 0.0430969, Weights = [[-4.3183358e-05 -8.0218721e-05  2.0299136e-05 ...  6.3722144e-04\n",
      "   1.0186473e-03  2.3652674e-04]], Bias = [0.00080116]\n",
      "Epoch = 265, Loss = 0.0429179, Weights = [[-4.3204273e-05 -8.1168924e-05  1.8905761e-05 ...  6.4116390e-04\n",
      "   1.0278148e-03  2.3429659e-04]], Bias = [0.00080726]\n",
      "Epoch = 270, Loss = 0.0427434, Weights = [[-4.3221695e-05 -8.2113933e-05  1.7511578e-05 ...  6.4503826e-04\n",
      "   1.0369021e-03  2.3206117e-04]], Bias = [0.00081328]\n",
      "Epoch = 275, Loss = 0.0425734, Weights = [[-4.3235988e-05 -8.3053870e-05  1.6116272e-05 ...  6.4884627e-04\n",
      "   1.0459111e-03  2.2982100e-04]], Bias = [0.00081921]\n",
      "Epoch = 280, Loss = 0.0424077, Weights = [[-4.3247463e-05 -8.3988874e-05  1.4719541e-05 ...  6.5258914e-04\n",
      "   1.0548437e-03  2.2757653e-04]], Bias = [0.00082506]\n",
      "Epoch = 285, Loss = 0.042246, Weights = [[-4.3256423e-05 -8.4919069e-05  1.3321118e-05 ...  6.5626850e-04\n",
      "   1.0637017e-03  2.2532813e-04]], Bias = [0.00083084]\n",
      "Epoch = 290, Loss = 0.0420882, Weights = [[-4.32631314e-05 -8.58445492e-05  1.19207525e-05 ...  6.59885525e-04\n",
      "   1.07248675e-03  2.23076218e-04]], Bias = [0.00083654]\n",
      "Epoch = 295, Loss = 0.0419341, Weights = [[-4.3267839e-05 -8.6765431e-05  1.0518209e-05 ...  6.6344161e-04\n",
      "   1.0812005e-03  2.2082112e-04]], Bias = [0.00084216]\n",
      "Optimization Finished!\n",
      "Training error= 0.041783623 Weights= [[-4.3270760e-05 -8.7681787e-05  9.1132779e-06 ...  6.6693802e-04\n",
      "   1.0898446e-03  2.1856316e-04]] Bias= [0.00084771] \n",
      "\n"
     ]
    }
   ],
   "source": [
    "optimizer = tf.train.GradientDescentOptimizer(learning_rate).minimize(error)\n",
    "\n",
    "session = tf.Session()\n",
    "session.run(tf.global_variables_initializer())\n",
    "\n",
    "loss_arr = []\n",
    "acc_arr = []\n",
    "\n",
    "for t in range(epochs):\n",
    "    \n",
    "    _, current_loss, current_W, current_b = session.run([optimizer, error, W, b], feed_dict={\n",
    "        X: training_data_x,\n",
    "        Y: training_data_y\n",
    "    })\n",
    "\n",
    "    if t % display_step == 0:\n",
    "        print(\"Epoch = %g, Loss = %g, Weights = %s, Bias = %s\" % (t, current_loss, str(current_W), str(current_b)))\n",
    "    \n",
    "    loss_arr.append(current_loss)\n",
    "    #acc_arr.append(accuracy(logistic_layer(current_W * training_data_x + current_b), training_data_y))\n",
    "    acc_arr.append(accuracy(logistic_layer(np.dot(current_W, training_data_x) + current_b), training_data_y))\n",
    "    \n",
    "print(\"Optimization Finished!\")\n",
    "\n",
    "training_error = session.run(error, feed_dict={X: training_data_x, Y: training_data_y})\n",
    "print(\"Training error=\", training_error, \"Weights=\", session.run(W), \"Bias=\", session.run(b), '\\n')"
   ]
  },
  {
   "cell_type": "code",
   "execution_count": 8,
   "metadata": {
    "cell_id": "00006-614e8ce1-d4bc-40d6-b8f7-3e04cbff6586",
    "deepnote_cell_type": "code",
    "deepnote_to_be_reexecuted": false,
    "execution_millis": 1079,
    "execution_start": 1634168452795,
    "source_hash": "a84f9185",
    "tags": []
   },
   "outputs": [
    {
     "name": "stdout",
     "output_type": "stream",
     "text": [
      "Accuracy percentage:  65.66371681415929 %\n"
     ]
    }
   ],
   "source": [
    "test_x = test_x.transpose()\n",
    "test_y = test_y.transpose()\n",
    "test_y = test_y.reshape(1,test_x.shape[1])\n",
    "\n",
    "predicted_y = np.dot(current_W, test_x) + session.run(b)\n",
    "predicted_y = logistic_layer(predicted_y)\n",
    "\n",
    "print(\"Accuracy percentage: \", accuracy(predicted_y, test_y), \"%\")"
   ]
  },
  {
   "cell_type": "code",
   "execution_count": 9,
   "metadata": {},
   "outputs": [],
   "source": [
    "with open('tf-models/multi-lr.npy', 'wb') as f:\n",
    "    np.save(f, session.run(W))\n",
    "    np.save(f, session.run(b))\n",
    "    np.save(f, loss_arr)\n",
    "    np.save(f, acc_arr)\n"
   ]
  },
  {
   "cell_type": "code",
   "execution_count": null,
   "metadata": {},
   "outputs": [],
   "source": []
  }
 ],
 "metadata": {
  "deepnote": {
   "is_reactive": false
  },
  "deepnote_execution_queue": [],
  "deepnote_notebook_id": "9816afbc-27fe-4cd8-82a2-1b252605b243",
  "environment": {
   "kernel": "python3",
   "name": "tf2-gpu.2-6.m87",
   "type": "gcloud",
   "uri": "gcr.io/deeplearning-platform-release/tf2-gpu.2-6:m87"
  },
  "kernelspec": {
   "display_name": "Python 3",
   "language": "python",
   "name": "python3"
  },
  "language_info": {
   "codemirror_mode": {
    "name": "ipython",
    "version": 3
   },
   "file_extension": ".py",
   "mimetype": "text/x-python",
   "name": "python",
   "nbconvert_exporter": "python",
   "pygments_lexer": "ipython3",
   "version": "3.7.12"
  }
 },
 "nbformat": 4,
 "nbformat_minor": 4
}
