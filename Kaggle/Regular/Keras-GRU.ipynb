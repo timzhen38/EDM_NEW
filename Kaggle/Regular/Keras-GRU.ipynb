{
 "cells": [
  {
   "cell_type": "code",
   "execution_count": 1,
   "metadata": {
    "cell_id": "00000-afba7569-182c-446f-9ff9-b34e7667234e",
    "deepnote_cell_type": "code",
    "deepnote_to_be_reexecuted": false,
    "execution_millis": 1,
    "execution_start": 1635037265730,
    "source_hash": "5278eaf6",
    "tags": []
   },
   "outputs": [
    {
     "data": {
      "text/plain": [
       "[PhysicalDevice(name='/physical_device:GPU:0', device_type='GPU')]"
      ]
     },
     "execution_count": 1,
     "metadata": {},
     "output_type": "execute_result"
    }
   ],
   "source": [
    "# https://stackoverflow.com/questions/45741878/using-binary-crossentropy-loss-in-keras-tensorflow-backend\n",
    "# https://www.machinecurve.com/index.php/2019/10/22/how-to-use-binary-categorical-crossentropy-with-keras/\n",
    "\n",
    "import os\n",
    "os.environ['TF_CPP_MIN_LOG_LEVEL'] = '3' \n",
    "\n",
    "import tensorflow as tf\n",
    "from tensorflow import keras\n",
    "from tensorflow.keras.models import Sequential\n",
    "from tensorflow.keras.layers import Dense, GRU, Dropout\n",
    "from tensorflow.keras.losses import BinaryCrossentropy\n",
    "from keras.callbacks import CSVLogger\n",
    "from sklearn.model_selection import train_test_split\n",
    "import numpy as np\n",
    "import pandas as pd\n",
    "import matplotlib.pyplot as plt\n",
    "physical_devices = tf.config.list_physical_devices('GPU') \n",
    "for device in physical_devices:\n",
    "    tf.config.experimental.set_memory_growth(device, True)\n",
    "\n",
    "%load_ext tensorboard\n",
    "import datetime\n",
    "\n",
    "tf.config.experimental.list_physical_devices('GPU')\n",
    "\n",
    "# RNN based Models (RNN & LSTM & GRU) using tensorflow keras"
   ]
  },
  {
   "cell_type": "code",
   "execution_count": 2,
   "metadata": {},
   "outputs": [],
   "source": [
    "!rm -rf ./logs/GRU #dont run this line unless you want to delete the tensorboard logs"
   ]
  },
  {
   "cell_type": "code",
   "execution_count": 3,
   "metadata": {
    "cell_id": "00004-38d59f3b-639f-4670-800c-6442871d0b19",
    "deepnote_cell_type": "code",
    "deepnote_to_be_reexecuted": false,
    "execution_millis": 3,
    "execution_start": 1635033957043,
    "source_hash": "df684276",
    "tags": []
   },
   "outputs": [],
   "source": [
    "def convert_3D(matrix):\n",
    "    return np.expand_dims(matrix, -1)"
   ]
  },
  {
   "cell_type": "code",
   "execution_count": 4,
   "metadata": {
    "cell_id": "00002-2f7c7b75-6991-49b0-8fb1-efa0c10c3753",
    "deepnote_cell_type": "code",
    "deepnote_to_be_reexecuted": false,
    "execution_millis": 3,
    "execution_start": 1635033957053,
    "source_hash": "d6dd0e88",
    "tags": []
   },
   "outputs": [],
   "source": [
    "#retrieve and format data - into labels from the dataset\n",
    "def labels(filename):\n",
    "    data = np.matrix(pd.read_csv(filename).values)\n",
    "    data_y = data[:, 0]\n",
    "    data_y-=1 \n",
    "    return data_y"
   ]
  },
  {
   "cell_type": "code",
   "execution_count": 5,
   "metadata": {
    "cell_id": "00003-61e6535c-8807-4fdf-9db0-2600c2e1ffeb",
    "deepnote_cell_type": "code",
    "deepnote_to_be_reexecuted": false,
    "execution_millis": 7311,
    "execution_start": 1635033957061,
    "source_hash": "cc5c0c7f",
    "tags": []
   },
   "outputs": [],
   "source": [
    "with open(\"../archive/ProcessData.npy\", 'rb') as f:\n",
    "        training_data_x = np.load(f)\n",
    "        test_x = np.load(f)\n",
    "training_data_x = convert_3D(training_data_x) \n",
    "test_x = convert_3D(test_x)\n",
    "\n",
    "training_data_y = labels(\"../archive/exoTrain.csv\")\n",
    "test_y = labels(\"../archive/exoTest.csv\")\n",
    "\n",
    "training_data_x, validation_data_x, training_data_y, validation_data_y = train_test_split(training_data_x, training_data_y, test_size=0.3)"
   ]
  },
  {
   "cell_type": "code",
   "execution_count": 6,
   "metadata": {
    "cell_id": "00007-c0a57ad4-3c35-42c7-8b5c-55879d7020a1",
    "deepnote_cell_type": "code",
    "deepnote_to_be_reexecuted": true,
    "execution_millis": 1218104,
    "execution_start": 1634529075420,
    "source_hash": "b21a705a",
    "tags": []
   },
   "outputs": [
    {
     "name": "stdout",
     "output_type": "stream",
     "text": [
      "Epoch 1/10\n",
      "112/112 [==============================] - 30s 223ms/step - loss: 0.6420 - accuracy: 0.8730 - auc: 0.4872 - precision: 0.0093 - recall: 0.1333 - false_negatives: 26.0000 - false_positives: 426.0000 - true_negatives: 3104.0000 - true_positives: 4.0000 - val_loss: 0.6136 - val_accuracy: 0.9489 - val_auc: 0.6359 - val_precision: 0.0137 - val_recall: 0.1429 - val_false_negatives: 6.0000 - val_false_positives: 72.0000 - val_true_negatives: 1448.0000 - val_true_positives: 1.0000\n",
      "Epoch 2/10\n",
      "112/112 [==============================] - 22s 193ms/step - loss: 0.5840 - accuracy: 0.9447 - auc: 0.4583 - precision: 0.0173 - recall: 0.1000 - false_negatives: 27.0000 - false_positives: 170.0000 - true_negatives: 3360.0000 - true_positives: 3.0000 - val_loss: 0.5573 - val_accuracy: 0.9489 - val_auc: 0.6387 - val_precision: 0.0137 - val_recall: 0.1429 - val_false_negatives: 6.0000 - val_false_positives: 72.0000 - val_true_negatives: 1448.0000 - val_true_positives: 1.0000\n",
      "Epoch 3/10\n",
      "112/112 [==============================] - 21s 192ms/step - loss: 0.5295 - accuracy: 0.9438 - auc: 0.4558 - precision: 0.0170 - recall: 0.1000 - false_negatives: 27.0000 - false_positives: 173.0000 - true_negatives: 3357.0000 - true_positives: 3.0000 - val_loss: 0.5022 - val_accuracy: 0.9476 - val_auc: 0.6408 - val_precision: 0.0000e+00 - val_recall: 0.0000e+00 - val_false_negatives: 7.0000 - val_false_positives: 73.0000 - val_true_negatives: 1447.0000 - val_true_positives: 0.0000e+00\n",
      "Epoch 4/10\n",
      "112/112 [==============================] - 22s 193ms/step - loss: 0.4751 - accuracy: 0.9444 - auc: 0.4566 - precision: 0.0172 - recall: 0.1000 - false_negatives: 27.0000 - false_positives: 171.0000 - true_negatives: 3359.0000 - true_positives: 3.0000 - val_loss: 0.4458 - val_accuracy: 0.9522 - val_auc: 0.6466 - val_precision: 0.0000e+00 - val_recall: 0.0000e+00 - val_false_negatives: 7.0000 - val_false_positives: 66.0000 - val_true_negatives: 1454.0000 - val_true_positives: 0.0000e+00\n",
      "Epoch 5/10\n",
      "112/112 [==============================] - 22s 192ms/step - loss: 0.4190 - accuracy: 0.9452 - auc: 0.4883 - precision: 0.0118 - recall: 0.0667 - false_negatives: 28.0000 - false_positives: 167.0000 - true_negatives: 3363.0000 - true_positives: 2.0000 - val_loss: 0.3871 - val_accuracy: 0.9568 - val_auc: 0.6578 - val_precision: 0.0000e+00 - val_recall: 0.0000e+00 - val_false_negatives: 7.0000 - val_false_positives: 59.0000 - val_true_negatives: 1461.0000 - val_true_positives: 0.0000e+00\n",
      "Epoch 6/10\n",
      "112/112 [==============================] - 21s 190ms/step - loss: 0.3617 - accuracy: 0.9500 - auc: 0.4741 - precision: 0.0067 - recall: 0.0333 - false_negatives: 29.0000 - false_positives: 149.0000 - true_negatives: 3381.0000 - true_positives: 1.0000 - val_loss: 0.3273 - val_accuracy: 0.9627 - val_auc: 0.6785 - val_precision: 0.0000e+00 - val_recall: 0.0000e+00 - val_false_negatives: 7.0000 - val_false_positives: 50.0000 - val_true_negatives: 1470.0000 - val_true_positives: 0.0000e+00\n",
      "Epoch 7/10\n",
      "112/112 [==============================] - 21s 190ms/step - loss: 0.3049 - accuracy: 0.9542 - auc: 0.5099 - precision: 0.0074 - recall: 0.0333 - false_negatives: 29.0000 - false_positives: 134.0000 - true_negatives: 3396.0000 - true_positives: 1.0000 - val_loss: 0.2695 - val_accuracy: 0.9659 - val_auc: 0.6871 - val_precision: 0.0000e+00 - val_recall: 0.0000e+00 - val_false_negatives: 7.0000 - val_false_positives: 45.0000 - val_true_negatives: 1475.0000 - val_true_positives: 0.0000e+00\n",
      "Epoch 8/10\n",
      "112/112 [==============================] - 21s 191ms/step - loss: 0.2521 - accuracy: 0.9576 - auc: 0.5099 - precision: 0.0081 - recall: 0.0333 - false_negatives: 29.0000 - false_positives: 122.0000 - true_negatives: 3408.0000 - true_positives: 1.0000 - val_loss: 0.2174 - val_accuracy: 0.9659 - val_auc: 0.6985 - val_precision: 0.0000e+00 - val_recall: 0.0000e+00 - val_false_negatives: 7.0000 - val_false_positives: 45.0000 - val_true_negatives: 1475.0000 - val_true_positives: 0.0000e+00\n",
      "Epoch 9/10\n",
      "112/112 [==============================] - 21s 190ms/step - loss: 0.2063 - accuracy: 0.9593 - auc: 0.5170 - precision: 0.0000e+00 - recall: 0.0000e+00 - false_negatives: 30.0000 - false_positives: 115.0000 - true_negatives: 3415.0000 - true_positives: 0.0000e+00 - val_loss: 0.1735 - val_accuracy: 0.9686 - val_auc: 0.7057 - val_precision: 0.0000e+00 - val_recall: 0.0000e+00 - val_false_negatives: 7.0000 - val_false_positives: 41.0000 - val_true_negatives: 1479.0000 - val_true_positives: 0.0000e+00\n",
      "Epoch 10/10\n",
      "112/112 [==============================] - 21s 190ms/step - loss: 0.1696 - accuracy: 0.9621 - auc: 0.5157 - precision: 0.0000e+00 - recall: 0.0000e+00 - false_negatives: 30.0000 - false_positives: 105.0000 - true_negatives: 3425.0000 - true_positives: 0.0000e+00 - val_loss: 0.1393 - val_accuracy: 0.9718 - val_auc: 0.7073 - val_precision: 0.0000e+00 - val_recall: 0.0000e+00 - val_false_negatives: 7.0000 - val_false_positives: 36.0000 - val_true_negatives: 1484.0000 - val_true_positives: 0.0000e+00\n"
     ]
    },
    {
     "name": "stderr",
     "output_type": "stream",
     "text": [
      "WARNING:absl:Found untraced functions such as gru_cell_layer_call_and_return_conditional_losses, gru_cell_layer_call_fn, gru_cell_1_layer_call_and_return_conditional_losses, gru_cell_1_layer_call_fn, gru_cell_layer_call_fn while saving (showing 5 of 10). These functions will not be directly callable after loading.\n"
     ]
    },
    {
     "name": "stdout",
     "output_type": "stream",
     "text": [
      "INFO:tensorflow:Assets written to: keras-models/KerasGRU/assets\n"
     ]
    },
    {
     "name": "stderr",
     "output_type": "stream",
     "text": [
      "INFO:tensorflow:Assets written to: keras-models/KerasGRU/assets\n"
     ]
    }
   ],
   "source": [
    "GRUmodel = Sequential([\n",
    "    GRU(64, input_shape=(training_data_x.shape[1:]), return_sequences=True),\n",
    "    #Dropout(0.3),\n",
    "    GRU(64),\n",
    "    #Dropout(0.3),\n",
    "    #GRU(64),\n",
    "    Dense(1, activation='sigmoid')\n",
    "])\n",
    "\n",
    "GRUmodel.compile(\n",
    "    loss=BinaryCrossentropy(),\n",
    "    optimizer=keras.optimizers.Adam(learning_rate=0.00001),\n",
    "    metrics=[\"accuracy\", tf.keras.metrics.AUC(), tf.keras.metrics.Precision(), tf.keras.metrics.Recall(), tf.keras.metrics.FalseNegatives(),\n",
    "             tf.keras.metrics.FalsePositives(), tf.keras.metrics.TrueNegatives(), tf.keras.metrics.TruePositives()]\n",
    ")\n",
    "\n",
    "log_dir = \"logs/GRU/fit/\" + datetime.datetime.now().strftime(\"%Y%m%d-%H%M%S\")\n",
    "tensorboard_callback = tf.keras.callbacks.TensorBoard(log_dir=log_dir)\n",
    "\n",
    "csv_logger = CSVLogger('keras-models/KerasGRU/training.csv',separator=\",\", append=False)\n",
    "\n",
    "GRUmodel.fit(training_data_x, training_data_y, epochs=10, validation_data=(validation_data_x,validation_data_y), callbacks=[tensorboard_callback, csv_logger])\n",
    "\n",
    "model = GRUmodel\n",
    "model.save('keras-models/KerasGRU')"
   ]
  },
  {
   "cell_type": "code",
   "execution_count": 7,
   "metadata": {},
   "outputs": [
    {
     "data": {
      "text/html": [
       "\n",
       "      <iframe id=\"tensorboard-frame-bded5f8e857331f5\" width=\"100%\" height=\"800\" frameborder=\"0\">\n",
       "      </iframe>\n",
       "      <script>\n",
       "        (function() {\n",
       "          const frame = document.getElementById(\"tensorboard-frame-bded5f8e857331f5\");\n",
       "          const url = new URL(\"/proxy/6006/\", window.location);\n",
       "          const port = 0;\n",
       "          if (port) {\n",
       "            url.port = port;\n",
       "          }\n",
       "          frame.src = url;\n",
       "        })();\n",
       "      </script>\n",
       "    "
      ],
      "text/plain": [
       "<IPython.core.display.HTML object>"
      ]
     },
     "metadata": {},
     "output_type": "display_data"
    }
   ],
   "source": [
    "%tensorboard --logdir logs/GRU/fit"
   ]
  },
  {
   "cell_type": "code",
   "execution_count": null,
   "metadata": {},
   "outputs": [],
   "source": []
  }
 ],
 "metadata": {
  "deepnote": {
   "is_reactive": false
  },
  "deepnote_execution_queue": [],
  "deepnote_notebook_id": "cc27128a-20f9-46f3-8cb8-b049b97dc4ab",
  "environment": {
   "kernel": "python3",
   "name": "tf2-gpu.2-6.m87",
   "type": "gcloud",
   "uri": "gcr.io/deeplearning-platform-release/tf2-gpu.2-6:m87"
  },
  "kernelspec": {
   "display_name": "Python 3",
   "language": "python",
   "name": "python3"
  },
  "language_info": {
   "codemirror_mode": {
    "name": "ipython",
    "version": 3
   },
   "file_extension": ".py",
   "mimetype": "text/x-python",
   "name": "python",
   "nbconvert_exporter": "python",
   "pygments_lexer": "ipython3",
   "version": "3.7.12"
  }
 },
 "nbformat": 4,
 "nbformat_minor": 4
}
