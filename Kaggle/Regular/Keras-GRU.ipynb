{
 "cells": [
  {
   "cell_type": "code",
   "execution_count": 1,
   "metadata": {
    "cell_id": "00000-afba7569-182c-446f-9ff9-b34e7667234e",
    "deepnote_cell_type": "code",
    "deepnote_to_be_reexecuted": false,
    "execution_millis": 1,
    "execution_start": 1635037265730,
    "source_hash": "5278eaf6",
    "tags": []
   },
   "outputs": [
    {
     "data": {
      "text/plain": [
       "[PhysicalDevice(name='/physical_device:GPU:0', device_type='GPU')]"
      ]
     },
     "execution_count": 1,
     "metadata": {},
     "output_type": "execute_result"
    }
   ],
   "source": [
    "# https://stackoverflow.com/questions/45741878/using-binary-crossentropy-loss-in-keras-tensorflow-backend\n",
    "# https://www.machinecurve.com/index.php/2019/10/22/how-to-use-binary-categorical-crossentropy-with-keras/\n",
    "\n",
    "import os\n",
    "os.environ['TF_CPP_MIN_LOG_LEVEL'] = '3' \n",
    "\n",
    "import tensorflow as tf\n",
    "from tensorflow import keras\n",
    "from tensorflow.keras.models import Sequential\n",
    "from tensorflow.keras.layers import Dense, GRU, Dropout\n",
    "from tensorflow.keras.losses import BinaryCrossentropy\n",
    "from keras.callbacks import CSVLogger\n",
    "from sklearn.model_selection import train_test_split\n",
    "import numpy as np\n",
    "import pandas as pd\n",
    "import matplotlib.pyplot as plt\n",
    "physical_devices = tf.config.list_physical_devices('GPU') \n",
    "for device in physical_devices:\n",
    "    tf.config.experimental.set_memory_growth(device, True)\n",
    "\n",
    "%load_ext tensorboard\n",
    "import datetime\n",
    "\n",
    "tf.config.experimental.list_physical_devices('GPU')\n",
    "\n",
    "# RNN based Models (RNN & LSTM & GRU) using tensorflow keras"
   ]
  },
  {
   "cell_type": "code",
   "execution_count": 2,
   "metadata": {},
   "outputs": [],
   "source": [
    "!rm -rf ./logs/GRU #dont run this line unless you want to delete the tensorboard logs"
   ]
  },
  {
   "cell_type": "code",
   "execution_count": 3,
   "metadata": {
    "cell_id": "00004-38d59f3b-639f-4670-800c-6442871d0b19",
    "deepnote_cell_type": "code",
    "deepnote_to_be_reexecuted": false,
    "execution_millis": 3,
    "execution_start": 1635033957043,
    "source_hash": "df684276",
    "tags": []
   },
   "outputs": [],
   "source": [
    "def convert_3D(matrix):\n",
    "    return np.expand_dims(matrix, -1)"
   ]
  },
  {
   "cell_type": "code",
   "execution_count": 5,
   "metadata": {
    "cell_id": "00003-61e6535c-8807-4fdf-9db0-2600c2e1ffeb",
    "deepnote_cell_type": "code",
    "deepnote_to_be_reexecuted": false,
    "execution_millis": 7311,
    "execution_start": 1635033957061,
    "source_hash": "cc5c0c7f",
    "tags": []
   },
   "outputs": [],
   "source": [
    "with open(\"../archive/ProcessData.npy\", 'rb') as f:\n",
    "        training_data_x = np.load(f)\n",
    "        test_x = np.load(f)\n",
    "        training_data_y = np.load(f)\n",
    "        test_y = np.load(f)\n",
    "        \n",
    "training_data_x = convert_3D(training_data_x) \n",
    "test_x = convert_3D(test_x)\n",
    "\n",
    "training_data_x, validation_data_x, training_data_y, validation_data_y = train_test_split(training_data_x, training_data_y, test_size=0.3)"
   ]
  },
  {
   "cell_type": "code",
   "execution_count": 6,
   "metadata": {
    "cell_id": "00007-c0a57ad4-3c35-42c7-8b5c-55879d7020a1",
    "deepnote_cell_type": "code",
    "deepnote_to_be_reexecuted": true,
    "execution_millis": 1218104,
    "execution_start": 1634529075420,
    "source_hash": "b21a705a",
    "tags": []
   },
   "outputs": [
    {
     "name": "stdout",
     "output_type": "stream",
     "text": [
      "Epoch 1/10\n",
      "221/221 [==============================] - 50s 206ms/step - loss: 0.6879 - accuracy: 0.5574 - auc: 0.5594 - precision: 0.5355 - recall: 0.8777 - false_negatives: 433.0000 - false_positives: 2696.0000 - true_negatives: 833.0000 - true_positives: 3108.0000 - val_loss: 0.6829 - val_accuracy: 0.5746 - val_auc: 0.5702 - val_precision: 0.5453 - val_recall: 0.8781 - val_false_negatives: 184.0000 - val_false_positives: 1105.0000 - val_true_negatives: 416.0000 - val_true_positives: 1325.0000\n",
      "Epoch 2/10\n",
      "221/221 [==============================] - 42s 191ms/step - loss: 0.6825 - accuracy: 0.5711 - auc: 0.5744 - precision: 0.5471 - recall: 0.8351 - false_negatives: 584.0000 - false_positives: 2448.0000 - true_negatives: 1081.0000 - true_positives: 2957.0000 - val_loss: 0.6777 - val_accuracy: 0.5815 - val_auc: 0.5906 - val_precision: 0.5522 - val_recall: 0.8443 - val_false_negatives: 235.0000 - val_false_positives: 1033.0000 - val_true_negatives: 488.0000 - val_true_positives: 1274.0000\n",
      "Epoch 3/10\n",
      "221/221 [==============================] - 42s 192ms/step - loss: 0.6782 - accuracy: 0.5810 - auc: 0.5918 - precision: 0.5555 - recall: 0.8181 - false_negatives: 644.0000 - false_positives: 2318.0000 - true_negatives: 1211.0000 - true_positives: 2897.0000 - val_loss: 0.6733 - val_accuracy: 0.5967 - val_auc: 0.6069 - val_precision: 0.5659 - val_recall: 0.8164 - val_false_negatives: 277.0000 - val_false_positives: 945.0000 - val_true_negatives: 576.0000 - val_true_positives: 1232.0000\n",
      "Epoch 4/10\n",
      "221/221 [==============================] - 42s 192ms/step - loss: 0.6743 - accuracy: 0.5918 - auc: 0.6033 - precision: 0.5659 - recall: 0.7944 - false_negatives: 728.0000 - false_positives: 2158.0000 - true_negatives: 1371.0000 - true_positives: 2813.0000 - val_loss: 0.6693 - val_accuracy: 0.6069 - val_auc: 0.6186 - val_precision: 0.5760 - val_recall: 0.7985 - val_false_negatives: 304.0000 - val_false_positives: 887.0000 - val_true_negatives: 634.0000 - val_true_positives: 1205.0000\n",
      "Epoch 5/10\n",
      "221/221 [==============================] - 43s 193ms/step - loss: 0.6710 - accuracy: 0.6034 - auc: 0.6115 - precision: 0.5780 - recall: 0.7713 - false_negatives: 810.0000 - false_positives: 1994.0000 - true_negatives: 1535.0000 - true_positives: 2731.0000 - val_loss: 0.6656 - val_accuracy: 0.6125 - val_auc: 0.6288 - val_precision: 0.5814 - val_recall: 0.7926 - val_false_negatives: 313.0000 - val_false_positives: 861.0000 - val_true_negatives: 660.0000 - val_true_positives: 1196.0000\n",
      "Epoch 6/10\n",
      "221/221 [==============================] - 42s 192ms/step - loss: 0.6679 - accuracy: 0.6091 - auc: 0.6190 - precision: 0.5828 - recall: 0.7724 - false_negatives: 806.0000 - false_positives: 1958.0000 - true_negatives: 1571.0000 - true_positives: 2735.0000 - val_loss: 0.6622 - val_accuracy: 0.6211 - val_auc: 0.6355 - val_precision: 0.5885 - val_recall: 0.7952 - val_false_negatives: 309.0000 - val_false_positives: 839.0000 - val_true_negatives: 682.0000 - val_true_positives: 1200.0000\n",
      "Epoch 7/10\n",
      "221/221 [==============================] - 42s 192ms/step - loss: 0.6651 - accuracy: 0.6130 - auc: 0.6245 - precision: 0.5860 - recall: 0.7744 - false_negatives: 799.0000 - false_positives: 1937.0000 - true_negatives: 1592.0000 - true_positives: 2742.0000 - val_loss: 0.6591 - val_accuracy: 0.6281 - val_auc: 0.6418 - val_precision: 0.5935 - val_recall: 0.8032 - val_false_negatives: 297.0000 - val_false_positives: 830.0000 - val_true_negatives: 691.0000 - val_true_positives: 1212.0000\n",
      "Epoch 8/10\n",
      "221/221 [==============================] - 43s 193ms/step - loss: 0.6624 - accuracy: 0.6185 - auc: 0.6289 - precision: 0.5902 - recall: 0.7800 - false_negatives: 779.0000 - false_positives: 1918.0000 - true_negatives: 1611.0000 - true_positives: 2762.0000 - val_loss: 0.6560 - val_accuracy: 0.6294 - val_auc: 0.6462 - val_precision: 0.5947 - val_recall: 0.8032 - val_false_negatives: 297.0000 - val_false_positives: 826.0000 - val_true_negatives: 695.0000 - val_true_positives: 1212.0000\n",
      "Epoch 9/10\n",
      "221/221 [==============================] - 42s 192ms/step - loss: 0.6598 - accuracy: 0.6201 - auc: 0.6319 - precision: 0.5910 - recall: 0.7842 - false_negatives: 764.0000 - false_positives: 1922.0000 - true_negatives: 1607.0000 - true_positives: 2777.0000 - val_loss: 0.6531 - val_accuracy: 0.6333 - val_auc: 0.6511 - val_precision: 0.5987 - val_recall: 0.7999 - val_false_negatives: 302.0000 - val_false_positives: 809.0000 - val_true_negatives: 712.0000 - val_true_positives: 1207.0000\n",
      "Epoch 10/10\n",
      "221/221 [==============================] - 42s 192ms/step - loss: 0.6572 - accuracy: 0.6216 - auc: 0.6350 - precision: 0.5930 - recall: 0.7800 - false_negatives: 779.0000 - false_positives: 1896.0000 - true_negatives: 1633.0000 - true_positives: 2762.0000 - val_loss: 0.6503 - val_accuracy: 0.6386 - val_auc: 0.6562 - val_precision: 0.6038 - val_recall: 0.7979 - val_false_negatives: 305.0000 - val_false_positives: 790.0000 - val_true_negatives: 731.0000 - val_true_positives: 1204.0000\n"
     ]
    },
    {
     "name": "stderr",
     "output_type": "stream",
     "text": [
      "WARNING:absl:Found untraced functions such as gru_cell_layer_call_and_return_conditional_losses, gru_cell_layer_call_fn, gru_cell_1_layer_call_and_return_conditional_losses, gru_cell_1_layer_call_fn, gru_cell_layer_call_fn while saving (showing 5 of 10). These functions will not be directly callable after loading.\n"
     ]
    },
    {
     "name": "stdout",
     "output_type": "stream",
     "text": [
      "INFO:tensorflow:Assets written to: keras-models/KerasGRU/assets\n"
     ]
    },
    {
     "name": "stderr",
     "output_type": "stream",
     "text": [
      "INFO:tensorflow:Assets written to: keras-models/KerasGRU/assets\n"
     ]
    }
   ],
   "source": [
    "GRUmodel = Sequential([\n",
    "    GRU(64, input_shape=(training_data_x.shape[1:]), return_sequences=True),\n",
    "    #Dropout(0.3),\n",
    "    GRU(64),\n",
    "    #Dropout(0.3),\n",
    "    #GRU(64),\n",
    "    Dense(1, activation='sigmoid')\n",
    "])\n",
    "\n",
    "GRUmodel.compile(\n",
    "    loss=BinaryCrossentropy(),\n",
    "    optimizer=keras.optimizers.Adam(learning_rate=0.00001),\n",
    "    metrics=[\"accuracy\", tf.keras.metrics.AUC(), tf.keras.metrics.Precision(), tf.keras.metrics.Recall(), tf.keras.metrics.FalseNegatives(),\n",
    "             tf.keras.metrics.FalsePositives(), tf.keras.metrics.TrueNegatives(), tf.keras.metrics.TruePositives()]\n",
    ")\n",
    "\n",
    "log_dir = \"logs/GRU/fit/\" + datetime.datetime.now().strftime(\"%Y%m%d-%H%M%S\")\n",
    "tensorboard_callback = tf.keras.callbacks.TensorBoard(log_dir=log_dir)\n",
    "\n",
    "csv_logger = CSVLogger('keras-models/KerasGRU/training.csv',separator=\",\", append=False)\n",
    "\n",
    "GRUmodel.fit(training_data_x, training_data_y, epochs=10, validation_data=(validation_data_x,validation_data_y), callbacks=[tensorboard_callback, csv_logger])\n",
    "\n",
    "model = GRUmodel\n",
    "model.save('keras-models/KerasGRU')"
   ]
  },
  {
   "cell_type": "code",
   "execution_count": 7,
   "metadata": {},
   "outputs": [
    {
     "data": {
      "text/html": [
       "\n",
       "      <iframe id=\"tensorboard-frame-48bbb4cc2f00c60a\" width=\"100%\" height=\"800\" frameborder=\"0\">\n",
       "      </iframe>\n",
       "      <script>\n",
       "        (function() {\n",
       "          const frame = document.getElementById(\"tensorboard-frame-48bbb4cc2f00c60a\");\n",
       "          const url = new URL(\"/proxy/6006/\", window.location);\n",
       "          const port = 0;\n",
       "          if (port) {\n",
       "            url.port = port;\n",
       "          }\n",
       "          frame.src = url;\n",
       "        })();\n",
       "      </script>\n",
       "    "
      ],
      "text/plain": [
       "<IPython.core.display.HTML object>"
      ]
     },
     "metadata": {},
     "output_type": "display_data"
    }
   ],
   "source": [
    "%tensorboard --logdir logs/GRU/fit"
   ]
  },
  {
   "cell_type": "code",
   "execution_count": null,
   "metadata": {},
   "outputs": [],
   "source": []
  }
 ],
 "metadata": {
  "deepnote": {
   "is_reactive": false
  },
  "deepnote_execution_queue": [],
  "deepnote_notebook_id": "cc27128a-20f9-46f3-8cb8-b049b97dc4ab",
  "environment": {
   "kernel": "python3",
   "name": "tf2-gpu.2-6.m87",
   "type": "gcloud",
   "uri": "gcr.io/deeplearning-platform-release/tf2-gpu.2-6:m87"
  },
  "kernelspec": {
   "display_name": "Python 3",
   "language": "python",
   "name": "python3"
  },
  "language_info": {
   "codemirror_mode": {
    "name": "ipython",
    "version": 3
   },
   "file_extension": ".py",
   "mimetype": "text/x-python",
   "name": "python",
   "nbconvert_exporter": "python",
   "pygments_lexer": "ipython3",
   "version": "3.7.12"
  }
 },
 "nbformat": 4,
 "nbformat_minor": 4
}
